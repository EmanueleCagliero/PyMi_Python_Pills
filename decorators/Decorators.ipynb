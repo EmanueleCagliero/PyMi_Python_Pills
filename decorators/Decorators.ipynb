{
 "cells": [
  {
   "cell_type": "markdown",
   "metadata": {},
   "source": [
    "# Decorators"
   ]
  },
  {
   "cell_type": "markdown",
   "metadata": {},
   "source": [
    "A Couple of days ago a classical question came out on the \"general\" slack channel of Python Milano.\n",
    "Skymonsters was wondering what a Python Decorator was."
   ]
  },
  {
   "cell_type": "markdown",
   "metadata": {},
   "source": [
    "The fastest to answer was Greenkey, who stated that a Decorator is somenthing able to augment the functionality of a function or method. This approach is widely used in Python, for example in Fabric, decorator is used as a marker for commands, or in Django a decorator is used to mark a view as cacheable."
   ]
  },
  {
   "cell_type": "markdown",
   "metadata": {},
   "source": [
    "Cstrap agreed with greenkey: a decorator was something that can augment the functionality of a method or function, and point out similarities with the Decorator pattern."
   ]
  },
  {
   "cell_type": "markdown",
   "metadata": {},
   "source": [
    "Then Greenkey point out that here there was a slightly difference: A Python decorator is just a \"wrapper\" for functions and, or methods."
   ]
  },
  {
   "cell_type": "markdown",
   "metadata": {},
   "source": [
    "At this point Skymonsters started to understand what a decorator was."
   ]
  },
  {
   "cell_type": "markdown",
   "metadata": {},
   "source": [
    "Meanwhile, Ema, gave another contribution to the discussion, he said that writing somenthing like this:"
   ]
  },
  {
   "cell_type": "markdown",
   "metadata": {},
   "source": [
    "```python\n",
    "@another_function\n",
    "def my_function()\n",
    "```"
   ]
  },
  {
   "cell_type": "markdown",
   "metadata": {},
   "source": [
    "You are basically doing such assigment"
   ]
  },
  {
   "cell_type": "markdown",
   "metadata": {},
   "source": [
    "```python\n",
    "my_function = another_function(my_function)\n",
    "```"
   ]
  },
  {
   "cell_type": "markdown",
   "metadata": {},
   "source": [
    "This puzzled a bit Skymonster but Ema explained that after the assigment, calling ```y = my_function(x)```"
   ]
  },
  {
   "cell_type": "markdown",
   "metadata": {},
   "source": [
    "is equivalent to call ```y = another_function(my_function(x))```"
   ]
  },
  {
   "cell_type": "markdown",
   "metadata": {},
   "source": [
    "At this point Skymonsters understood what was going on, but was concerned by the fact that after the \"decoration\", it was not possible to call the original function, moreover it was not clear what can be the use case for such a thing."
   ]
  },
  {
   "cell_type": "markdown",
   "metadata": {},
   "source": [
    "At this point Greenkey explained the use cases for a Decorator. He said, suppose we have some, so called, \"Cross cutting concerns\", for example, logging, or caching. With Decorators you can write this functionalities once and apply these only on functions, methods that you choose, not always."
   ]
  },
  {
   "cell_type": "markdown",
   "metadata": {},
   "source": [
    "And... Skymonsters **enlightment** happened."
   ]
  },
  {
   "cell_type": "markdown",
   "metadata": {},
   "source": [
    "After a while Zanza00 had another question. Are Decorators a way for doing _function composition_?"
   ]
  },
  {
   "cell_type": "markdown",
   "metadata": {},
   "source": [
    "At this point Cstrap answered that for such a thing `functools.partial` will do the job."
   ]
  },
  {
   "cell_type": "markdown",
   "metadata": {},
   "source": [
    "And finally, also Keobox hit the ground, and gave a little use case for a Decorator able to measure the elapsed time of a function for doing, for example, some profiling only for some functions."
   ]
  },
  {
   "cell_type": "code",
   "execution_count": 3,
   "metadata": {
    "collapsed": false
   },
   "outputs": [],
   "source": [
    "import datetime\n",
    "\n",
    "def elapsed(func):\n",
    "    \"Elapsed decorator.\"\n",
    "    def wrapper(*args, **kwargs):\n",
    "        \"Wrapper function\"\n",
    "        start = datetime.datetime.now()\n",
    "        ret = func(*args, **kwargs)\n",
    "        print(\"Elapsed time\", datetime.datetime.now() - start)\n",
    "        return ret\n",
    "    return wrapper"
   ]
  },
  {
   "cell_type": "markdown",
   "metadata": {},
   "source": [
    "We can call it without the Decorator _syntax_"
   ]
  },
  {
   "cell_type": "code",
   "execution_count": 6,
   "metadata": {
    "collapsed": false
   },
   "outputs": [
    {
     "name": "stdout",
     "output_type": "stream",
     "text": [
      "hello profiler\n",
      "Elapsed time 0:00:02.005423\n"
     ]
    }
   ],
   "source": [
    "\"Test w/o decorator syntax.\"\n",
    "\n",
    "import time\n",
    "\n",
    "def test1(a, b):\n",
    "    print(a, b)\n",
    "    time.sleep(2)\n",
    "\n",
    "test1 = elapsed(test1)\n",
    "test1(\"hello\", \"profiler\")"
   ]
  },
  {
   "cell_type": "markdown",
   "metadata": {},
   "source": [
    "Or, we can call it with the Decorator _syntax_"
   ]
  },
  {
   "cell_type": "code",
   "execution_count": 7,
   "metadata": {
    "collapsed": false
   },
   "outputs": [
    {
     "name": "stdout",
     "output_type": "stream",
     "text": [
      "hello profiler with decorator syntax\n",
      "Elapsed time 0:00:02.002340\n"
     ]
    }
   ],
   "source": [
    "@elapsed\n",
    "def test2(a, b):\n",
    "    print(a, b)\n",
    "    time.sleep(2)\n",
    "    \n",
    "test2(\"hello\", \"profiler with decorator syntax\")"
   ]
  },
  {
   "cell_type": "markdown",
   "metadata": {},
   "source": [
    "So, basically, Keobox agree with Ema: a Decorator is just _syntactic sugar_ for having a compact and more readable way to do function wrapping. But added another comment, if a Decorator is just a _syntax_, the enabling \"technology\" that makes this wrapping magic happen, comes from functional programming. In fact, this is possible because in Python the functions are first class objects, and the wrapping is obtained using High Order Functions. `elapsed` is just an High Order function that takes as input a function and returs another function: the wrapper. The wrapper, just add some functionality, in this case measures the execution time _around_ a call of the original function passed as argument."
   ]
  },
  {
   "cell_type": "markdown",
   "metadata": {},
   "source": [
    "## Useful links"
   ]
  },
  {
   "cell_type": "markdown",
   "metadata": {},
   "source": [
    "[A Decorator library](https://github.com/micheles/decorator)"
   ]
  }
 ],
 "metadata": {
  "kernelspec": {
   "display_name": "Python 3",
   "language": "python",
   "name": "python3"
  },
  "language_info": {
   "codemirror_mode": {
    "name": "ipython",
    "version": 3
   },
   "file_extension": ".py",
   "mimetype": "text/x-python",
   "name": "python",
   "nbconvert_exporter": "python",
   "pygments_lexer": "ipython3",
   "version": "3.5.2"
  }
 },
 "nbformat": 4,
 "nbformat_minor": 2
}
