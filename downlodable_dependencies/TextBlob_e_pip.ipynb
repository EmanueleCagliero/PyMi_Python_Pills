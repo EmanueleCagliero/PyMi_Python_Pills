{
 "cells": [
  {
   "cell_type": "markdown",
   "metadata": {},
   "source": [
    "# Problema"
   ]
  },
  {
   "cell_type": "markdown",
   "metadata": {},
   "source": [
    "Vorrei usare questo package [TextBlob](http://textblob.readthedocs.io/en/dev/install.html) ma non ho idea di come mettere la seconda riga nel file `requirements.txt`\n",
    "\n",
    "```\n",
    "pip install -U textblob\n",
    "python -m textblob.download_corpora\n",
    "```\n",
    "\n",
    "Any ideas?"
   ]
  },
  {
   "cell_type": "markdown",
   "metadata": {},
   "source": [
    "## Meanwhile on PyMi Slack..."
   ]
  },
  {
   "cell_type": "markdown",
   "metadata": {},
   "source": [
    "![tumble wind](tumble-wind.gif)"
   ]
  },
  {
   "cell_type": "markdown",
   "metadata": {},
   "source": [
    "# Dettaglio"
   ]
  },
  {
   "cell_type": "markdown",
   "metadata": {},
   "source": [
    "Il processo di installazione del package TextBlob prevede due step:\n",
    "\n",
    "* installazione package via `pip` \n",
    "* aggiunta dei dati necessari per il testo\n",
    "\n",
    "Il problema è che `pip freeze` indicherà solamente il package in uso, ma non le sue dipendenze dai dati (mentre il package `nltk` viene correttamente installato).\n",
    "\n",
    "Questo ostacolo impedisce di replicare sistematicamente il `virtualenv`, è necessaria un \"qualcosa\" - hook o script - per replicare l'ambiente."
   ]
  },
  {
   "cell_type": "markdown",
   "metadata": {},
   "source": [
    "## Soluzioni"
   ]
  },
  {
   "cell_type": "code",
   "execution_count": null,
   "metadata": {
    "collapsed": true
   },
   "outputs": [],
   "source": [
    "# python -m textblob.download_corpora in uno script python diventa\n",
    "\n",
    "from textblob import download_corpora\n",
    "\n",
    "download_corpora.main()"
   ]
  },
  {
   "cell_type": "code",
   "execution_count": null,
   "metadata": {
    "collapsed": true
   },
   "outputs": [],
   "source": [
    "# Nel caso si voglia inserire il quiet mode\n",
    "\n",
    "import nltk\n",
    "from textblob.download_corpora import ALL_CORPORA\n",
    "\n",
    "for each in ALL_CORPORA:\n",
    "    nltk.download(each, quiet=True)"
   ]
  },
  {
   "cell_type": "markdown",
   "metadata": {},
   "source": [
    "### In django"
   ]
  },
  {
   "cell_type": "markdown",
   "metadata": {},
   "source": [
    "Individuare un file `app.py` di una app e inserire uno dei due metodi soprastanti."
   ]
  },
  {
   "cell_type": "markdown",
   "metadata": {},
   "source": [
    "### Altri casi"
   ]
  },
  {
   "cell_type": "markdown",
   "metadata": {},
   "source": [
    "Individuare uno script python da lanciare per replicare l'ambiente."
   ]
  },
  {
   "cell_type": "markdown",
   "metadata": {},
   "source": [
    "### Have fun!"
   ]
  },
  {
   "cell_type": "code",
   "execution_count": null,
   "metadata": {
    "collapsed": true
   },
   "outputs": [],
   "source": []
  }
 ],
 "metadata": {
  "kernelspec": {
   "display_name": "Python 2",
   "language": "python",
   "name": "python2"
  },
  "language_info": {
   "codemirror_mode": {
    "name": "ipython",
    "version": 2
   },
   "file_extension": ".py",
   "mimetype": "text/x-python",
   "name": "python",
   "nbconvert_exporter": "python",
   "pygments_lexer": "ipython2",
   "version": "2.7.10"
  }
 },
 "nbformat": 4,
 "nbformat_minor": 0
}
