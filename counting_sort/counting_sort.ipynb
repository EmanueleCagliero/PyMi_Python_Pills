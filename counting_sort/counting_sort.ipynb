{
 "cells": [
  {
   "cell_type": "markdown",
   "metadata": {},
   "source": [
    "# Counting Sort"
   ]
  },
  {
   "cell_type": "markdown",
   "metadata": {},
   "source": [
    "A couple of nights ago I saw a video of JUG Milano about algorithms, the context was technical interviews. The video was the \\#88 of JUG Milano."
   ]
  },
  {
   "cell_type": "markdown",
   "metadata": {},
   "source": [
    "During the speech I was intrigued about \"continug sort\": a way of sorting integers arrays in linear time, under some circumstances."
   ]
  },
  {
   "cell_type": "markdown",
   "metadata": {},
   "source": [
    "The idea is simple: in practice, with integers, is possible to \"reconstruct\" the ordered \"array\" using another array where indices represent the ordered array and content are the occurrences of an integer of the original array."
   ]
  },
  {
   "cell_type": "markdown",
   "metadata": {},
   "source": [
    "The I tried to write this in Python, and this is what came out."
   ]
  },
  {
   "cell_type": "code",
   "execution_count": 1,
   "metadata": {
    "collapsed": true
   },
   "outputs": [],
   "source": [
    "def counting_sort(A):\n",
    "    \"Sort the 'array' of int A.\"\n",
    "    if len(A) <= 1:\n",
    "        return A\n",
    "    M = A[0]\n",
    "    m = A[0]\n",
    "    for i in range(1, len(A)):\n",
    "        if A[i] > M:\n",
    "            M = A[i]\n",
    "        if A[i] < m:\n",
    "            m = A[i]\n",
    "    # frequency array of the range\n",
    "    C = [0] * (M - m + 1)\n",
    "    for i in range(len(A)):\n",
    "        C[A[i] - m] = C[A[i] - m] + 1\n",
    "    # construct sorted A from C\n",
    "    k = 0\n",
    "    for i in range(len(C)):\n",
    "        while C[i] > 0:\n",
    "            A[k] = m + i\n",
    "            C[i] = C[i] - 1\n",
    "            k = k + 1\n",
    "    return A"
   ]
  },
  {
   "cell_type": "markdown",
   "metadata": {},
   "source": [
    "Some unit tests."
   ]
  },
  {
   "cell_type": "code",
   "execution_count": 5,
   "metadata": {
    "collapsed": false
   },
   "outputs": [
    {
     "name": "stdout",
     "output_type": "stream",
     "text": [
      "All good since then\n"
     ]
    }
   ],
   "source": [
    "A = [3,2,5,6,3,8,9,11]\n",
    "counting_sort(A)\n",
    "assert A == [2,3,3,5,6,8,9,11]\n",
    "A = [11,2]\n",
    "counting_sort(A)\n",
    "assert A == [2,11]\n",
    "A = [2]\n",
    "counting_sort(A)\n",
    "assert A == [2]\n",
    "A = [-1,-2,3,0]\n",
    "counting_sort(A)\n",
    "assert A == [-2,-1,0,3]\n",
    "print('All good since then')"
   ]
  },
  {
   "cell_type": "markdown",
   "metadata": {},
   "source": [
    "Then I thought to post this code to the Python Milano Slack channel, my intent was to show how simple is to write algorithms in Python. It seems a sort of pseudocode for Counting Sort as expressed in \"Introduction to algorithms\" 3rd ed. Cormen, Leiserson, Rivest, Stein ch. 8."
   ]
  },
  {
   "cell_type": "markdown",
   "metadata": {},
   "source": [
    "But a nice discussion came out. \"You can do it in a more pythonic way\" the audience said. Ok, here is the revision."
   ]
  },
  {
   "cell_type": "code",
   "execution_count": 6,
   "metadata": {
    "collapsed": true
   },
   "outputs": [],
   "source": [
    "def more_pythonic_counting_sort(A):\n",
    "    \"Sort the 'array' of int A.\"\n",
    "    if len(A) <= 1:\n",
    "        return A\n",
    "    m = min(A)\n",
    "    # frequency array of the range\n",
    "    C = [0] * (max(A) - m + 1)\n",
    "    for a in A:\n",
    "        C[a - m] = C[a - m] + 1\n",
    "    # construct sorted A from C\n",
    "    k = 0\n",
    "    for i in range(len(C)):\n",
    "        while C[i] > 0:\n",
    "            A[k] = m + i\n",
    "            C[i] = C[i] - 1\n",
    "            k = k + 1\n",
    "    return A"
   ]
  },
  {
   "cell_type": "markdown",
   "metadata": {},
   "source": [
    "Unit tests."
   ]
  },
  {
   "cell_type": "code",
   "execution_count": 7,
   "metadata": {
    "collapsed": false
   },
   "outputs": [
    {
     "name": "stdout",
     "output_type": "stream",
     "text": [
      "All good, again\n"
     ]
    }
   ],
   "source": [
    "A = [3,2,5,6,3,8,9,11]\n",
    "more_pythonic_counting_sort(A)\n",
    "assert A == [2,3,3,5,6,8,9,11]\n",
    "A = [11,2]\n",
    "more_pythonic_counting_sort(A)\n",
    "assert A == [2,11]\n",
    "A = [2]\n",
    "more_pythonic_counting_sort(A)\n",
    "assert A == [2]\n",
    "A = [-1,-2,3,0]\n",
    "more_pythonic_counting_sort(A)\n",
    "assert A == [-2,-1,0,3]\n",
    "print('All good, again')"
   ]
  },
  {
   "cell_type": "markdown",
   "metadata": {},
   "source": [
    "The audience mostly agreed that this was the most pythonic achievable implementation, but a new \"issue\" came out. What is the performance of this stuff? So I started to write some performance tests."
   ]
  },
  {
   "cell_type": "code",
   "execution_count": 14,
   "metadata": {
    "collapsed": true
   },
   "outputs": [],
   "source": [
    "import random\n",
    "\n",
    "def test1():\n",
    "    A = [random.randint(0, 99999) for i in range(100000)]\n",
    "    counting_sort(A)\n",
    "\n",
    "def test2():\n",
    "    A = [random.randint(0, 99999) for i in range(100000)]\n",
    "    more_pythonic_counting_sort(A)\n",
    "\n",
    "def test3():\n",
    "    A = [random.randint(0, 99999) for i in range(100000)]\n",
    "    A.sort()"
   ]
  },
  {
   "cell_type": "code",
   "execution_count": 31,
   "metadata": {
    "collapsed": false
   },
   "outputs": [
    {
     "name": "stdout",
     "output_type": "stream",
     "text": [
      "CPU times: user 2.15 s, sys: 18.7 ms, total: 2.17 s\n",
      "Wall time: 2.17 s\n"
     ]
    }
   ],
   "source": [
    "%time for i in range(10): test1()"
   ]
  },
  {
   "cell_type": "code",
   "execution_count": 32,
   "metadata": {
    "collapsed": false
   },
   "outputs": [
    {
     "name": "stdout",
     "output_type": "stream",
     "text": [
      "CPU times: user 1.94 s, sys: 18.3 ms, total: 1.96 s\n",
      "Wall time: 1.96 s\n"
     ]
    }
   ],
   "source": [
    "%time for i in range(10): test2()"
   ]
  },
  {
   "cell_type": "code",
   "execution_count": 33,
   "metadata": {
    "collapsed": false
   },
   "outputs": [
    {
     "name": "stdout",
     "output_type": "stream",
     "text": [
      "CPU times: user 1.79 s, sys: 20.7 ms, total: 1.81 s\n",
      "Wall time: 1.81 s\n"
     ]
    }
   ],
   "source": [
    "%time for i in range(10): test3()"
   ]
  },
  {
   "cell_type": "markdown",
   "metadata": {},
   "source": [
    "Ok, this demonstrates that writing pythonic code is worthy, the performance killer of the first implementation was the first for loop used to calculate the maximum and minimun of the range."
   ]
  },
  {
   "cell_type": "markdown",
   "metadata": {},
   "source": [
    "Surprisingly the pythonic version has good performance, near to the [Timsort](https://en.wikipedia.org/wiki/Timsort) implemented (in C) into the python interpreter itself, althougth Timsort is acting as a normal Mergesort in this case, because on average there are no pre sorted sequences in the randomic lists. Should be interesting to compare a Mergesort implementation written in python with Counting Sort."
   ]
  },
  {
   "cell_type": "markdown",
   "metadata": {},
   "source": [
    "Then I tried another tests. Use lists without repetitions."
   ]
  },
  {
   "cell_type": "code",
   "execution_count": 34,
   "metadata": {
    "collapsed": true
   },
   "outputs": [],
   "source": [
    "def test4():\n",
    "    # no repetitions\n",
    "    A = list(range(100000))\n",
    "    random.shuffle(A)\n",
    "    more_pythonic_counting_sort(A)\n",
    "\n",
    "def test5():\n",
    "    # no repetitions\n",
    "    A = list(range(100000))\n",
    "    random.shuffle(A)\n",
    "    A.sort()"
   ]
  },
  {
   "cell_type": "code",
   "execution_count": 35,
   "metadata": {
    "collapsed": false
   },
   "outputs": [
    {
     "name": "stdout",
     "output_type": "stream",
     "text": [
      "CPU times: user 1.43 s, sys: 11.9 ms, total: 1.44 s\n",
      "Wall time: 1.44 s\n"
     ]
    }
   ],
   "source": [
    "%time for i in range(10): test4()"
   ]
  },
  {
   "cell_type": "code",
   "execution_count": 36,
   "metadata": {
    "collapsed": false
   },
   "outputs": [
    {
     "name": "stdout",
     "output_type": "stream",
     "text": [
      "CPU times: user 1.25 s, sys: 12.1 ms, total: 1.26 s\n",
      "Wall time: 1.26 s\n"
     ]
    }
   ],
   "source": [
    "%time for i in range(10): test5()"
   ]
  },
  {
   "cell_type": "markdown",
   "metadata": {},
   "source": [
    "In this case we are not so close, because the range is always 100000, before it can be K = M - m < 100000, so the counting list was smaller."
   ]
  },
  {
   "cell_type": "markdown",
   "metadata": {},
   "source": [
    "Ok, enough of messing up with ordering algorithms, I hope you enjoyed the discussion."
   ]
  }
 ],
 "metadata": {
  "kernelspec": {
   "display_name": "Python 3",
   "language": "python",
   "name": "python3"
  },
  "language_info": {
   "codemirror_mode": {
    "name": "ipython",
    "version": 3
   },
   "file_extension": ".py",
   "mimetype": "text/x-python",
   "name": "python",
   "nbconvert_exporter": "python",
   "pygments_lexer": "ipython3",
   "version": "3.5.2"
  }
 },
 "nbformat": 4,
 "nbformat_minor": 2
}
